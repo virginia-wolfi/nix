{
  "cells": [
    {
      "attachments": {},
      "cell_type": "markdown",
      "metadata": {
        "id": "6T2Q6W0XyZz5"
      },
      "source": [
        "1.Напишите template строки, который можно будет многократно переиспользовать,вставляя в него имя и фамилию человека. Используйте метод строки \"format\"."
      ]
    },
    {
      "cell_type": "code",
      "execution_count": null,
      "metadata": {
        "id": "-LcUzFsoqrnb"
      },
      "outputs": [],
      "source": [
        "print(f'{input()} {input()}')"
      ]
    },
    {
      "attachments": {},
      "cell_type": "markdown",
      "metadata": {
        "id": "tW62bf1cwwQH"
      },
      "source": [
        "2.Напишите функцию, которая будет преобразовывать цену к формату, отображающему до двух знаков после точки, например:\n",
        "22.32131 -> 22.32\n",
        "\n",
        "58.60125 -> 58.6\n",
        "\n",
        "34.0 -> 34"
      ]
    },
    {
      "cell_type": "code",
      "execution_count": null,
      "metadata": {
        "colab": {
          "base_uri": "https://localhost:8080/"
        },
        "id": "Nhvz-KYJw4yo",
        "outputId": "b2e93e87-2ed3-48d6-fd3f-71767b5221db"
      },
      "outputs": [
        {
          "name": "stdout",
          "output_type": "stream",
          "text": [
            "22.32\n",
            "34\n"
          ]
        }
      ],
      "source": [
        "def convert(p):\n",
        "  p = float(p)\n",
        "  if p == int(p):\n",
        "    return int(p)\n",
        "  return int(p * 100) / 100 \n",
        "\n",
        "print(convert(22.32631))\n",
        "print(convert(34.0 ))"
      ]
    },
    {
      "attachments": {},
      "cell_type": "markdown",
      "metadata": {
        "id": "053c24ISBnNl"
      },
      "source": [
        "3.Дан список из строк. Создайте однострочное решение (при помощи list comprehension), которое приведёт к верхнему регистру все строки, содержащие слово 'price')"
      ]
    },
    {
      "cell_type": "code",
      "execution_count": null,
      "metadata": {
        "colab": {
          "base_uri": "https://localhost:8080/"
        },
        "id": "sCTu8LXNBsBv",
        "outputId": "91835c28-5ea5-465d-c979-090734115f9e"
      },
      "outputs": [
        {
          "name": "stdout",
          "output_type": "stream",
          "text": [
            "['PRICE111', 'aaa', 'bbb', 'PRICE', 'GOOD PRICE', 'ccc']\n"
          ]
        }
      ],
      "source": [
        "l = ['price111', 'aaa', 'bbb', 'price', 'good price', 'ccc']\n",
        "new_l = [s.upper() if 'price' in s else s for s in l]\n",
        "print(new_l)"
      ]
    },
    {
      "attachments": {},
      "cell_type": "markdown",
      "metadata": {
        "id": "h_OJcb1UC2U8"
      },
      "source": [
        "4.Напишите функцию, которая принимает список, и число. Функция должна разбить список на N кусков, переданных в функцию в качестве втрого аргумента. Выполнить проверки по здравому смыслу (например, нет смысла пытаться разбить список из 3 элементов на 4 элемента)"
      ]
    },
    {
      "cell_type": "code",
      "execution_count": null,
      "metadata": {
        "colab": {
          "base_uri": "https://localhost:8080/"
        },
        "id": "TnuR5TJBC_dG",
        "outputId": "69397019-fa11-4fbf-c949-2917ab12ad1b"
      },
      "outputs": [
        {
          "name": "stdout",
          "output_type": "stream",
          "text": [
            "[['price111'], ['aaa'], ['bbb'], ['price'], ['good price'], ['ccc', 'ggg', 'nnn']]\n",
            "[['price111', 'aaa'], ['bbb', 'price'], ['good price', 'ccc'], ['ggg', 'nnn']]\n"
          ]
        }
      ],
      "source": [
        "def partition(l, n):\n",
        "  p = len(l)//n\n",
        "  if not len(l)%n:\n",
        "    return [l[i:i+p] for i in range(0, len(l), p)]\n",
        "  p = len(l)//(n-1)\n",
        "  r = len(l)%p\n",
        "  if not r and (p!=1):\n",
        "    return [l[i:i+p] for i in range(0, p*(n-2), p)] + [l[i:i+(p-1)] for i in range(p*(n-2), len(l), p-1)]\n",
        "  return [l[i:i+p] for i in range(0, p*(n-1), p)] + [l[p*(n-1):]]\n",
        "\n",
        "print(partition(['price111', 'aaa', 'bbb', 'price', 'good price', 'ccc', 'ggg', 'nnn'], 6))\n",
        "print(partition(['price111', 'aaa', 'bbb', 'price', 'good price', 'ccc', 'ggg', 'nnn'], 4))"
      ]
    },
    {
      "attachments": {},
      "cell_type": "markdown",
      "metadata": {
        "id": "fdlYW_a5cKpg"
      },
      "source": [
        "5.Дана строка из имён, в формате \"Денис, Олег, Вася, Петя,Дима,Женя\". Разбейте строку так, чтобы получился список имён. Заметьте: после запятой не всегда есть пробел (он не должен входить в имена, которые попадут в список)"
      ]
    },
    {
      "cell_type": "code",
      "execution_count": null,
      "metadata": {
        "colab": {
          "base_uri": "https://localhost:8080/"
        },
        "id": "ArHYiRA3xhKD",
        "outputId": "907c70bb-83f0-48ca-d6b0-db304627d857"
      },
      "outputs": [
        {
          "name": "stdout",
          "output_type": "stream",
          "text": [
            "['Денис', 'Олег', 'Вася', 'Петя', 'Дима', 'Женя']\n"
          ]
        }
      ],
      "source": [
        "import re\n",
        "l = \"Денис, Олег, Вася, Петя,Дима,Женя\"\n",
        "names = re.split(' *[,] *', l)\n",
        "print(names)"
      ]
    },
    {
      "attachments": {},
      "cell_type": "markdown",
      "metadata": {
        "id": "SPcCs2G4ygx6"
      },
      "source": [
        "6.Дан список из строк. Используя join, соедините строки так, чтобы они были разделены через запятую. На выходе должна получиться строка в виде \"my_string1,my_string2,my_string3\""
      ]
    },
    {
      "cell_type": "code",
      "execution_count": null,
      "metadata": {
        "colab": {
          "base_uri": "https://localhost:8080/"
        },
        "id": "2aAAFIt5y-15",
        "outputId": "0c6560ca-bae4-404d-fa35-cd4f747948e6"
      },
      "outputs": [
        {
          "name": "stdout",
          "output_type": "stream",
          "text": [
            "my_string1,my_string2,my_string3\n"
          ]
        }
      ],
      "source": [
        "print(','.join(['my_string1', 'my_string2', 'my_string3']))"
      ]
    },
    {
      "attachments": {},
      "cell_type": "markdown",
      "metadata": {
        "id": "J-R5LWAGzSYm"
      },
      "source": [
        "7.Есть список из случайных чисел и строк. Создайте цикл, итерирующийся до тех пор, пока не встретится число \"777\". Если в течении 100 попыток число не будет найдено — остановить цикл и вызвать ошибку с соответсвующим сообщением.\n"
      ]
    },
    {
      "cell_type": "code",
      "execution_count": 2,
      "metadata": {
        "colab": {
          "base_uri": "https://localhost:8080/",
          "height": 200
        },
        "id": "1WRpNxCdzato",
        "outputId": "780fb820-4aba-4585-e782-01f963694830"
      },
      "outputs": [
        {
          "ename": "Error",
          "evalue": "No 777 found",
          "output_type": "error",
          "traceback": [
            "\u001b[0;31m---------------------------------------------------------------------------\u001b[0m",
            "\u001b[0;31mError\u001b[0m                                     Traceback (most recent call last)",
            "Cell \u001b[0;32mIn[2], line 26\u001b[0m\n\u001b[1;32m     23\u001b[0m   n \u001b[39m+\u001b[39m\u001b[39m=\u001b[39m \u001b[39m1\u001b[39m\n\u001b[1;32m     25\u001b[0m \u001b[39mif\u001b[39;00m \u001b[39mnot\u001b[39;00m flag:\n\u001b[0;32m---> 26\u001b[0m   \u001b[39mraise\u001b[39;00m Error(\u001b[39m'\u001b[39m\u001b[39mNo 777 found\u001b[39m\u001b[39m'\u001b[39m)\n",
            "\u001b[0;31mError\u001b[0m: No 777 found"
          ]
        }
      ],
      "source": [
        "from binascii import Error\n",
        "import random\n",
        "\n",
        "a = '''This module implements pseudo-random number generators for various distributions.\n",
        "For integers, there is uniform selection from a range. \n",
        "For sequences, there is uniform selection of a random element, \n",
        "a function to generate a random permutation of a list in-place, and a function for random sampling without replacement.\n",
        "On the real line, there are functions to compute uniform, \n",
        "normal (Gaussian), lognormal, negative exponential,gamma, and beta distributions. \n",
        "For generating distributions of angles, the von Mises distribution is available.'''.split()\n",
        "l = [random.randint(500, 1000) for i in range(700)] + [random.choice(a) for i in range(100)]\n",
        "random.shuffle(l)\n",
        "\n",
        "n = 0\n",
        "flag = True\n",
        "while True:\n",
        "  if l[n] in (777, '777'):\n",
        "    print('found 777')\n",
        "    break\n",
        "  if n == 99:\n",
        "    flag = False\n",
        "    break\n",
        "  n += 1\n",
        "\n",
        "if not flag:\n",
        "  raise Error('No 777 found')\n"
      ]
    },
    {
      "attachments": {},
      "cell_type": "markdown",
      "metadata": {
        "id": "vInIisPplc3P"
      },
      "source": [
        "8.Создать функцию, которая принимает на вход два списка: первый — список, который нужно очистить от определённых значений, второй — список тех значений, от которых нужно очистить. Например, list1 = [1, 2, 3, 4, 5], list2 = [1, 3, 4], функция должна вернуть [2, 5]"
      ]
    },
    {
      "cell_type": "code",
      "execution_count": null,
      "metadata": {
        "colab": {
          "base_uri": "https://localhost:8080/"
        },
        "id": "hM4UHbR_lq6c",
        "outputId": "e13dc8db-6af9-4c47-fe65-7a402a02867b"
      },
      "outputs": [
        {
          "name": "stdout",
          "output_type": "stream",
          "text": [
            "[2, 5]\n"
          ]
        }
      ],
      "source": [
        "def cleanser(l1:list, l2:list):\n",
        "  return list(set(l1).difference(set(l2)))\n",
        "\n",
        "print(cleanser([1, 2, 3, 4, 5], [1, 3, 4]))"
      ]
    }
  ],
  "metadata": {
    "colab": {
      "provenance": []
    },
    "kernelspec": {
      "display_name": "Python 3",
      "language": "python",
      "name": "python3"
    },
    "language_info": {
      "codemirror_mode": {
        "name": "ipython",
        "version": 3
      },
      "file_extension": ".py",
      "mimetype": "text/x-python",
      "name": "python",
      "nbconvert_exporter": "python",
      "pygments_lexer": "ipython3",
      "version": "3.10.6"
    },
    "vscode": {
      "interpreter": {
        "hash": "916dbcbb3f70747c44a77c7bcd40155683ae19c65e1c03b4aa3499c5328201f1"
      }
    }
  },
  "nbformat": 4,
  "nbformat_minor": 0
}

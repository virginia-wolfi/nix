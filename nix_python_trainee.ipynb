{
 "cells": [
  {
   "attachments": {},
   "cell_type": "markdown",
   "metadata": {},
   "source": [
    "\n",
    "1.\n",
    "Дан список из словарей в формате [{'name': 'Oleg', 'age': 23}, {'name': 'Vasya', 'age': 19}]\n",
    "Отсортируйте список по возрасту людей, чтобы получилось [{'name': 'Vasya', 'age': 19}, {'name': 'Oleg', 'age': 23}]\n",
    "Используйте sorted и lambda\n"
   ]
  },
  {
   "cell_type": "code",
   "execution_count": 11,
   "metadata": {},
   "outputs": [
    {
     "name": "stdout",
     "output_type": "stream",
     "text": [
      "[{'name': 'Natasha', 'age': 17}, {'name': 'Vasya', 'age': 19}, {'name': 'Oleg', 'age': 23}, {'name': 'Anton', 'age': 30}]\n"
     ]
    }
   ],
   "source": [
    "l = [{'name': 'Oleg', 'age': 23}, {'name': 'Vasya', 'age': 19}, {'name': 'Natasha', 'age': 17},\n",
    "     {'name': 'Anton', 'age': 30}]\n",
    "l2 = sorted(l, key=lambda i: i['age'])\n",
    "print(l2)"
   ]
  },
  {
   "cell_type": "markdown",
   "metadata": {},
   "source": [
    "2. \n",
    "Написать свой декоратор, который будет отлавливать ошибки,\n",
    "полученные в ходе выполнения обёрнутой функции, логгировать их и делать raise отловленной ошибки"
   ]
  },
  {
   "cell_type": "code",
   "execution_count": 12,
   "metadata": {},
   "outputs": [
    {
     "name": "stderr",
     "output_type": "stream",
     "text": [
      "ERROR:root:division by zero\n",
      "Traceback (most recent call last):\n",
      "  File \"/tmp/ipykernel_39965/658074038.py\", line 6, in wrapper\n",
      "    return func(*args, **kwargs)\n",
      "  File \"/tmp/ipykernel_39965/658074038.py\", line 15, in f\n",
      "    return(i / n)\n",
      "ZeroDivisionError: division by zero\n"
     ]
    },
    {
     "ename": "ZeroDivisionError",
     "evalue": "division by zero",
     "output_type": "error",
     "traceback": [
      "\u001b[0;31m---------------------------------------------------------------------------\u001b[0m",
      "\u001b[0;31mZeroDivisionError\u001b[0m                         Traceback (most recent call last)",
      "Cell \u001b[0;32mIn[12], line 17\u001b[0m\n\u001b[1;32m     13\u001b[0m \u001b[39m@decorator\u001b[39m\n\u001b[1;32m     14\u001b[0m \u001b[39mdef\u001b[39;00m \u001b[39mf\u001b[39m(i, n):\n\u001b[1;32m     15\u001b[0m     \u001b[39mreturn\u001b[39;00m(i \u001b[39m/\u001b[39m n)\n\u001b[0;32m---> 17\u001b[0m \u001b[39mprint\u001b[39m(f(\u001b[39m5\u001b[39;49m, \u001b[39m0\u001b[39;49m))\n",
      "Cell \u001b[0;32mIn[12], line 6\u001b[0m, in \u001b[0;36mdecorator.<locals>.wrapper\u001b[0;34m(*args, **kwargs)\u001b[0m\n\u001b[1;32m      4\u001b[0m \u001b[39mdef\u001b[39;00m \u001b[39mwrapper\u001b[39m(\u001b[39m*\u001b[39margs, \u001b[39m*\u001b[39m\u001b[39m*\u001b[39mkwargs):\n\u001b[1;32m      5\u001b[0m     \u001b[39mtry\u001b[39;00m:\n\u001b[0;32m----> 6\u001b[0m         \u001b[39mreturn\u001b[39;00m func(\u001b[39m*\u001b[39;49margs, \u001b[39m*\u001b[39;49m\u001b[39m*\u001b[39;49mkwargs)\n\u001b[1;32m      7\u001b[0m     \u001b[39mexcept\u001b[39;00m \u001b[39mException\u001b[39;00m \u001b[39mas\u001b[39;00m err:\n\u001b[1;32m      8\u001b[0m         logging\u001b[39m.\u001b[39merror(err, exc_info\u001b[39m=\u001b[39m\u001b[39mTrue\u001b[39;00m)\n",
      "Cell \u001b[0;32mIn[12], line 15\u001b[0m, in \u001b[0;36mf\u001b[0;34m(i, n)\u001b[0m\n\u001b[1;32m     13\u001b[0m \u001b[39m@decorator\u001b[39m\n\u001b[1;32m     14\u001b[0m \u001b[39mdef\u001b[39;00m \u001b[39mf\u001b[39m(i, n):\n\u001b[0;32m---> 15\u001b[0m     \u001b[39mreturn\u001b[39;00m(i \u001b[39m/\u001b[39;49m n)\n",
      "\u001b[0;31mZeroDivisionError\u001b[0m: division by zero"
     ]
    }
   ],
   "source": [
    "import logging\n",
    "\n",
    "def decorator(func):\n",
    "    def wrapper(*args, **kwargs):\n",
    "        try:\n",
    "            return func(*args, **kwargs)\n",
    "        except Exception as err:\n",
    "            logging.error(err, exc_info=True)\n",
    "            raise\n",
    "    return wrapper\n",
    "\n",
    "\n",
    "@decorator\n",
    "def f(i, n):\n",
    "    return(i / n)\n",
    "\n",
    "print(f(5, 0))\n"
   ]
  },
  {
   "cell_type": "markdown",
   "metadata": {},
   "source": [
    "3. \n",
    "есть 2 списка:\n",
    "list1 = ['Oleg', 'Vasya', 'Anna']\n",
    "list2 = ['Ivanov', 'Sidorov', 'Petrova']\n",
    "используя zip соедините 2 списка так, чтобы получился список из tuple, в формате [('Oleg', 'Ivanov'), .....]"
   ]
  },
  {
   "cell_type": "code",
   "execution_count": 13,
   "metadata": {},
   "outputs": [
    {
     "name": "stdout",
     "output_type": "stream",
     "text": [
      "[('Oleg', 'Ivanov'), ('Vasya', 'Sidorov'), ('Anna', 'Petrova')]\n"
     ]
    }
   ],
   "source": [
    "list1 = ['Oleg', 'Vasya', 'Anna']\n",
    "list2 = ['Ivanov', 'Sidorov', 'Petrova']\n",
    "\n",
    "list3 = list(zip(list1, list2))\n",
    "print(list3)"
   ]
  },
  {
   "cell_type": "markdown",
   "metadata": {},
   "source": [
    "4. \n",
    "напишите lambda функцию, которая будет складывать 2 числа:\n",
    "my_lambda = <ваша лябмда функция>\n",
    ">>> my_lambda(3, 5)\n",
    "8"
   ]
  },
  {
   "cell_type": "code",
   "execution_count": 14,
   "metadata": {},
   "outputs": [
    {
     "name": "stdout",
     "output_type": "stream",
     "text": [
      "22\n"
     ]
    }
   ],
   "source": [
    "my_lambda = lambda x, y: x + y\n",
    "print(my_lambda(17, 5))"
   ]
  },
  {
   "cell_type": "markdown",
   "metadata": {},
   "source": [
    "5. \n",
    "Дан список из словарей:\n",
    "list_ = [\n",
    "    {'name': 'Alex', 'age': 25},\n",
    "    {'name': 'Oleg', 'age': 23},\n",
    "    {'name': 'Anna', 'age': 32},\n",
    "    {'name': 'Igor', 'age': 50},\n",
    "    {'name': 'Anton', 'age': 17},\n",
    "]\n",
    "Отфильтруйте его так, чтобы в нём остались только люди, имена которых начинаются с буквы \"А\",\n",
    "и возраст между 18 и 30 годами включительно.\n",
    "В итоговом результате должен быть такой список:\n",
    "[{'name': 'Alex', 'age': 25}]"
   ]
  },
  {
   "cell_type": "code",
   "execution_count": 15,
   "metadata": {},
   "outputs": [
    {
     "name": "stdout",
     "output_type": "stream",
     "text": [
      "[{'name': 'Alex', 'age': 25}]\n"
     ]
    }
   ],
   "source": [
    "list_ = [\n",
    "    {'name': 'Alex', 'age': 25},\n",
    "    {'name': 'Oleg', 'age': 23},\n",
    "    {'name': 'Anna', 'age': 32},\n",
    "    {'name': 'Igor', 'age': 50},\n",
    "    {'name': 'Anton', 'age': 17},\n",
    "]\n",
    "f = lambda x: x['name'].startswith('A') and x['age'] in range(18, 31)\n",
    "l = list(filter(f, list_))\n",
    "print((l))"
   ]
  },
  {
   "cell_type": "markdown",
   "metadata": {},
   "source": [
    "6. \n",
    "Напишите функцию, которая делает return строки приветствия людей из разных стран на разных языках,\n",
    "в зависимости от страны человека.\n",
    "Вызовите функцию используя map\n",
    "Требование: используйте map\n",
    "Для примера можете взять этот список юзеров:\n",
    "users_list = [\n",
    "    ('Александр', 'ru'),\n",
    "    ('James', 'us'),\n",
    "    ('Daniella', 'es'),\n",
    "    ('Someone', 'unknown country'),\n",
    "]\n",
    "На выходе с использованием users_list,\n",
    "после использования map вы должны получить результат iterable с такими приветствиями:\n",
    "Привет, Александр!\n",
    "Hello, James!\n",
    "Hola, Daniella!\n",
    "Hello, Someone, but I do not know where are you from!"
   ]
  },
  {
   "cell_type": "code",
   "execution_count": 16,
   "metadata": {},
   "outputs": [
    {
     "name": "stdout",
     "output_type": "stream",
     "text": [
      "['Привет, Александр', 'Hello, James', 'Hola, Daniella', 'Hello, Someone, but I do not know where are you from!']\n"
     ]
    }
   ],
   "source": [
    "users_list = [\n",
    "    ('Александр', 'ru'),\n",
    "    ('James', 'us'),\n",
    "    ('Daniella', 'es'),\n",
    "    ('Someone', 'unknown country'),\n",
    "]\n",
    "def hello(s):\n",
    "    langs = {'ru': \"Привет\", 'us': 'Hello', 'es': 'Hola'}\n",
    "    if not s[1] in langs:\n",
    "        return 'Hello, Someone, but I do not know where are you from!'\n",
    "    else:\n",
    "        return f'{langs[s[1]]}, {s[0]}'\n",
    "\n",
    "print(list(map(hello, users_list)))"
   ]
  },
  {
   "cell_type": "markdown",
   "metadata": {},
   "source": [
    "7. \n",
    "создайте файл с таким содержанием:\n",
    "\"\"\"\n",
    "    some line blablabla you dont need to catch this line try to catch me but not me I'm here, catch me!!!\n",
    "\"\"\"\n",
    "откройте данный файл при помощи контекстного менеджера в режиме чтения и соберите список всех строк,\n",
    "которые содержат текст \"catch me\" в один список после чего выведите в консоль количество найденных в файле строк\n"
   ]
  },
  {
   "cell_type": "code",
   "execution_count": null,
   "metadata": {},
   "outputs": [],
   "source": [
    "with open('catch.txt', 'r') as file:\n",
    "    l = []\n",
    "    file = file.read()\n",
    "    for i in file.splitlines():\n",
    "        if 'catch me' in i:\n",
    "            l.append(i)\n",
    "print(len(l))"
   ]
  },
  {
   "cell_type": "markdown",
   "metadata": {},
   "source": [
    "8. \n",
    "создайте функцию-генератор, которая принимает на вход два числа, первое - старт, второе - end.\n",
    "генератор в каждом цикле должен возвращать число и увеличивать его на 1\n",
    "при итерации генератор должен начать с числа start и закончить итерации на числе end\n",
    "т.е. при вызове\n",
    "    for i in my_generator(1, 3):\n",
    "        print(i)\n",
    "в консоли должно быть:\n",
    "1\n",
    "2\n",
    "3"
   ]
  },
  {
   "cell_type": "code",
   "execution_count": 19,
   "metadata": {},
   "outputs": [
    {
     "name": "stdout",
     "output_type": "stream",
     "text": [
      "1\n",
      "2\n",
      "3\n"
     ]
    }
   ],
   "source": [
    "def my_generator(start, stop):\n",
    "    for i in range(start, stop + 1):\n",
    "        yield i\n",
    "\n",
    "for i in my_generator(1, 3):\n",
    "    print(i)\n"
   ]
  },
  {
   "cell_type": "markdown",
   "metadata": {},
   "source": [
    "9. \n",
    "Напишите функцию, которая принимает число - таймзону от GMT\n",
    "(например, Киев - таймзона +2, соответсвенно передаёте 2, или Гавайи - таймзона = -10,\n",
    "соответсвенно передаёте -10), и возвращает текущую дату и время в указаной таймзоне.\n",
    "Формат:\n",
    "[<часов>:<минут>:<секунд>] - <день месяца>, <полное название месяца> of <год>\n",
    "например: [16:22:26] - 11, March of 2021"
   ]
  },
  {
   "cell_type": "code",
   "execution_count": 20,
   "metadata": {},
   "outputs": [
    {
     "data": {
      "text/plain": [
       "'[06:47:17] - 18, January of 2023'"
      ]
     },
     "execution_count": 20,
     "metadata": {},
     "output_type": "execute_result"
    }
   ],
   "source": [
    "from datetime import datetime, timedelta\n",
    "\n",
    "\n",
    "def return_time(gmt_zone):\n",
    "    time_here = datetime.utcnow() + timedelta(hours=gmt_zone)\n",
    "    return time_here.strftime('[%H:%M:%S] - %d, %B of %Y')\n",
    "return_time(-10)"
   ]
  },
  {
   "cell_type": "markdown",
   "metadata": {},
   "source": [
    "10. \n",
    "генерируйте рандомное число при помощи модуля рандом:\n",
    "import random\n",
    "\n",
    "random_number = random.randint(1, 10)\n",
    "\n",
    "При помощи модуля time засеките время ожидания программы и выведите его в консоль\n",
    "\n",
    "start_time = <ваш код здесь>\n",
    "\"усыпите\" выполнение программы на <random_number> секунд\n",
    "end_time = <ваш код здесь>\n"
   ]
  },
  {
   "cell_type": "code",
   "execution_count": 21,
   "metadata": {},
   "outputs": [
    {
     "name": "stdout",
     "output_type": "stream",
     "text": [
      "1\n",
      "1.0011661052703857\n"
     ]
    }
   ],
   "source": [
    "import random\n",
    "import time\n",
    "random_number = random.randint(1, 10)\n",
    "print(random_number)\n",
    "start_time = time.time()\n",
    "time.sleep(random_number)\n",
    "end_time = time.time() - start_time\n",
    "\n",
    "print(end_time)"
   ]
  },
  {
   "cell_type": "markdown",
   "metadata": {},
   "source": [
    "11. \n",
    "создайте тестовую директорию с несколькими файлами разных названий\n",
    "при помощи модуля os создайте функцию для очистки директории от файлов\n",
    "определённого расширения, принимающую на вход:\n",
    "путь к директории, где нужно удалить файлы\n",
    "строку - формат файла, по которой будет определяться, нужно ли удалять файл\n",
    "пример вызова:\n",
    "delete_files_func(path='/path/to/folder', file_extension='.txt')\n",
    "после удаления файлов функция должна вернуть список названий всех удалённых файлов\n",
    "\n",
    "результат - в директории /path/to/folder удалены все файлы, расширение которых == .txt"
   ]
  },
  {
   "cell_type": "code",
   "execution_count": 22,
   "metadata": {},
   "outputs": [
    {
     "name": "stdout",
     "output_type": "stream",
     "text": [
      "[]\n"
     ]
    }
   ],
   "source": [
    "import os\n",
    "\n",
    "def delete_files_func(path, file_extension):\n",
    "    l = []\n",
    "    for i in os.listdir(path):\n",
    "        if i.endswith(file_extension):\n",
    "            l.append(i)\n",
    "            os.remove(os.path.join(path, i))\n",
    "    return l\n",
    "\n",
    "print(delete_files_func(path='/home/valentina', file_extension='.txt'))"
   ]
  },
  {
   "cell_type": "markdown",
   "metadata": {},
   "source": [
    "12. \n",
    "Напишите скрипт, который пишет в консоль \"Hello, <имя> <фамилия>! Nice to see you here!\"\n",
    "На вход скрипт принимает имя и фамилию, которые в последствии и используются в скрипте."
   ]
  },
  {
   "cell_type": "code",
   "execution_count": null,
   "metadata": {},
   "outputs": [],
   "source": [
    "print(f'Hello, {input()} {input()}! Nice to see you here!')"
   ]
  },
  {
   "cell_type": "markdown",
   "metadata": {},
   "source": [
    "13. \n",
    "Создайте несколько классов конструктора автомобиля:\n",
    "Engine -> Car -> Honda\n",
    "Реализуйте наследование этих классов и базовые методы для каждого из них,\n",
    "например start/stop для engine, open/close doors для Car и т.д.\n",
    "Используйте __init__ для инициализации необходимых параметров (максимальная скорость, объем двигателя, и т.п.)\n",
    "Примените инкапсуляцию для сокрытия вспомогательных методов\n",
    "По необходимости используйте staticmethod / classmethod / property"
   ]
  },
  {
   "cell_type": "code",
   "execution_count": 26,
   "metadata": {},
   "outputs": [],
   "source": [
    "class Engine:\n",
    "    def __init__(self, eng_capacity: float, eng_power: float, eng_country: str):\n",
    "        self.engine_capacity = eng_capacity\n",
    "        self.engine_power = eng_power\n",
    "        self.engine_country = eng_country\n",
    "        self.__is_on = False\n",
    "\n",
    "    @property\n",
    "    def start(self):\n",
    "        return self.__is_on\n",
    "\n",
    "    @start.setter\n",
    "    def start(self, is_on):\n",
    "        if self.__is_on == is_on:\n",
    "            print(f'Engine is already {(\"off\", \"on\")[is_on]}')\n",
    "        else:\n",
    "            print(f'{(\"Stopping\", \"Starting\")[is_on]} the engine...')\n",
    "            self.__is_on = is_on\n",
    "\n",
    "\n",
    "class Car:\n",
    "    __MIN_MAX_SPEED = 120\n",
    "    __MAX_MAX_SPEED = 450\n",
    "\n",
    "    @classmethod\n",
    "    def __speed_validate(cls, arg):\n",
    "        return cls.__MIN_MAX_SPEED <= arg <= cls.__MAX_MAX_SPEED\n",
    "\n",
    "    def __init__(self, color, max_speed, engine):\n",
    "        self.color = color\n",
    "        if self.__speed_validate(max_speed):\n",
    "            self.max_speed = max_speed\n",
    "        else:\n",
    "            self.max_speed = 'data is being specified'\n",
    "        self.__are_doors_opened = False\n",
    "        self.engine = engine\n",
    "\n",
    "    @property\n",
    "    def open_doors(self):\n",
    "        return self.__are_doors_opened\n",
    "\n",
    "    @open_doors.setter\n",
    "    def open_doors(self, are_opened):\n",
    "        if self.__are_doors_opened == are_opened:\n",
    "            print(f'Doors are already {(\"closed\", \"opened\")[are_opened]}')\n",
    "        else:\n",
    "            print(f'{(\"Closing\", \"Opening\")[are_opened]} the doors...')\n",
    "            self.__are_doors_opened = are_opened\n",
    "\n",
    "    def brand(self):\n",
    "        print(self.__class__.__name__)\n",
    "\n",
    "class Honda(Car):\n",
    "\n",
    "    def __init__(self, model, car=None, color=None, max_speed=None, engine=None):\n",
    "        if car:\n",
    "            super().__init__(car.color, car.max_speed, car.engine)\n",
    "        else:\n",
    "            super().__init__(color, max_speed, engine)\n",
    "        self.model = model\n",
    "\n",
    "car1 = Car('orange', 250, Engine(1.5, 13.2, 'Japan'))"
   ]
  },
  {
   "cell_type": "markdown",
   "metadata": {},
   "source": [
    "14. \n",
    "Создайте несколько классов: Animal (абстрактный класс), Cat, Dog\n",
    "Создайте абстрактные методы say, run и jump в классе Animal (abc.abstractmethod)\n",
    "Реализуйте полиморфизм поведения животных для методов: say, run, jump\n"
   ]
  },
  {
   "cell_type": "code",
   "execution_count": 27,
   "metadata": {},
   "outputs": [
    {
     "data": {
      "text/plain": [
       "'Mew Mew Mew Mew Mew '"
      ]
     },
     "execution_count": 27,
     "metadata": {},
     "output_type": "execute_result"
    }
   ],
   "source": [
    "from abc import ABC, abstractmethod\n",
    "\n",
    "\n",
    "class Animal(ABC):\n",
    "    animals = {'Cat': 'Meow ', 'Dog': 'Woof '}\n",
    "    \n",
    "    @abstractmethod\n",
    "    def say(self, arg):\n",
    "        print(self.animals[self.__class__.__name__] * arg)\n",
    "\n",
    "    @abstractmethod\n",
    "    def run(self, arg):\n",
    "        self._position = self._position[0] + metres, self._position[1]\n",
    "        print(f'Animal ran {metres} metres')\n",
    "\n",
    "    @abstractmethod\n",
    "    def jump(self, height):\n",
    "        self._position = self._position[0], self._position[1] + height\n",
    "        print(f'Animal jumped {height} metres')\n",
    "\n",
    "class Cat(Animal):\n",
    "    @classmethod\n",
    "    def __verify_age(cls, arg):\n",
    "        return 0 < arg < 30\n",
    "\n",
    "    def __init__(self, name, age, breed, color):\n",
    "        self.name = name\n",
    "        if self.__verify_age(age):\n",
    "            self.age = age\n",
    "        else:\n",
    "            self.age = f'This is strange, but age is {age}'\n",
    "        self.breed = breed\n",
    "        self.color = color\n",
    "        self._position = (0, 0)\n",
    "\n",
    "    def say(self, times):\n",
    "        return f'Mew ' * times\n",
    "\n",
    "    def run(self, metres):\n",
    "        super().init(metres)\n",
    "        \n",
    "    def jump(self, height):\n",
    "        super().init(height)\n",
    "\n",
    "    @property\n",
    "    def location(self):\n",
    "        return self._position\n",
    "\n",
    "    @location.setter\n",
    "    def location(self, value):\n",
    "        self._position = value\n",
    "\n",
    "class Dog(Animal):\n",
    "\n",
    "    @classmethod\n",
    "    def __verify_age(cls, arg):\n",
    "        return 0 < arg < 30\n",
    "\n",
    "    def __init__(self, name, age, breed, color):\n",
    "        self.name = name\n",
    "        if self.__verify_age(age):\n",
    "            self.age = age\n",
    "        else:\n",
    "            self.age = f'This is strange, but age is {age}'\n",
    "        self.breed = breed\n",
    "        self.color = color\n",
    "        self._position = (0, 0)\n",
    "\n",
    "    def say(self, times):\n",
    "        return f'Woof ' * times\n",
    "\n",
    "    def run(self, metres):\n",
    "        super().init(metres)\n",
    "\n",
    "    def jump(self, height):\n",
    "        super().init(height)\n",
    "\n",
    "    @property\n",
    "    def location(self):\n",
    "        return self._position\n",
    "\n",
    "    @location.setter\n",
    "    def location(self, value):\n",
    "        self._position = value\n",
    "        \n",
    "\n",
    "cat = Cat('Vasya', 10, 'wild', 'grey')\n",
    "cat.say(5)"
   ]
  },
  {
   "cell_type": "markdown",
   "metadata": {},
   "source": [
    "15. \n",
    "Напишите скрипт, который вычисляет площадь фигур - прямоугольник, квадрат, треугольник\n",
    "На входе скрипт принимает название фигуры и длины сторон.\n",
    "Требования: используйте классы, наследование, модуль sys\n",
    "\n"
   ]
  },
  {
   "cell_type": "code",
   "execution_count": 29,
   "metadata": {},
   "outputs": [],
   "source": [
    "import sys\n",
    "\n",
    "class Figure:\n",
    "    def __init__(self, *args):\n",
    "        self.sides = list(map(int, args))\n",
    "\n",
    "class Rectangle(Figure):\n",
    "    def __init__(self, side_a, side_b):\n",
    "        super().__init__(side_a, side_b)\n",
    "\n",
    "    def square(self):\n",
    "        return self.sides[0] * self.sides[1]\n",
    "\n",
    "class Square(Figure):\n",
    "    def __init__(self, side_a):\n",
    "        super().__init__(side_a)\n",
    "\n",
    "    def square(self):\n",
    "        return self.sides[0] ** 2\n",
    "\n",
    "class Triangle(Figure):\n",
    "    def __init__(self, side_a, side_b, side_c):\n",
    "        super().__init__(side_a, side_b, side_c)\n",
    "\n",
    "    def square(self):\n",
    "        p = 1 / 2 * (self.sides[0] + self.sides[1] + self.sides[2])\n",
    "        return (p * (p - self.sides[0]) * (p - self.sides[1]) * (p - self.sides[2])) ** 0.5\n",
    "\n",
    "\n",
    "for i in sys.stdin:\n",
    "    if i == '\\n':\n",
    "        break\n",
    "    inp = i.split() #format of input 'Triangle 4 8 10' - without commas and newline\n",
    "\n",
    "\n",
    "# tr = eval(f'{inp[0]}(*{inp[1:]})')\n",
    "# print(tr.square())"
   ]
  },
  {
   "attachments": {},
   "cell_type": "markdown",
   "metadata": {},
   "source": [
    "20. Протестируйте данные функции: \n",
    "def swap(txt):\n",
    "    '''\n",
    "    >>> half(\"abcd\"))\n",
    "    cdab\n",
    "    '''\n",
    "    return txt[int(len(txt)/2):] + txt[:int(len(txt)/2)]\n",
    "\n",
    "def average(*numbers):\n",
    "    '''\n",
    "    >>> average(2, 4, 6)\n",
    "    4\n",
    "    '''\n",
    "    s = 0\n",
    "    c = 0\n",
    "    for n in numbers:\n",
    "        s += n\n",
    "        c += 1\n",
    "    return s/c"
   ]
  },
  {
   "cell_type": "code",
   "execution_count": null,
   "metadata": {},
   "outputs": [],
   "source": [
    "from unittest import TestCase, main\n",
    "import doctest\n",
    "import funcs\n",
    "from funcs import swap\n",
    "from funcs import average\n",
    "\n",
    "def load_tests(loader, tests, ignore):\n",
    "    tests.addTests(doctest.DocTestSuite(funcs))\n",
    "    return tests\n",
    "\n",
    "class SwapFunc(TestCase):\n",
    "    def test_swap_order(self):\n",
    "        self.assertEqual(swap('qwer'), 'erqw')\n",
    "\n",
    "    def test_swap_odd(self):\n",
    "        self.assertEqual(swap('qwert'), 'ertqw')\n",
    "\n",
    "    def test_swap_one(self):\n",
    "        self.assertEqual(swap('d'), 'd')\n",
    "\n",
    "class AverageFunc(TestCase):\n",
    "    def test_avg(self):\n",
    "        self.assertEqual(average(2, 2, 2), 2.0)\n",
    "\n",
    "if __name__ == '__main__':\n",
    "    main()\n",
    "\n",
    "#необходимо создать файл funcs с функциями, директорию tests с файлами тестов и настроить конфигурацию Unittests"
   ]
  }
 ],
 "metadata": {
  "kernelspec": {
   "display_name": "Python 3",
   "language": "python",
   "name": "python3"
  },
  "language_info": {
   "codemirror_mode": {
    "name": "ipython",
    "version": 3
   },
   "file_extension": ".py",
   "mimetype": "text/x-python",
   "name": "python",
   "nbconvert_exporter": "python",
   "pygments_lexer": "ipython3",
   "version": "3.10.6"
  },
  "vscode": {
   "interpreter": {
    "hash": "916dbcbb3f70747c44a77c7bcd40155683ae19c65e1c03b4aa3499c5328201f1"
   }
  }
 },
 "nbformat": 4,
 "nbformat_minor": 2
}
